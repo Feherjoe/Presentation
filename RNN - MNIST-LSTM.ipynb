{
 "cells": [
  {
   "cell_type": "code",
   "execution_count": 1,
   "metadata": {},
   "outputs": [],
   "source": [
    "import tensorflow as tf\n",
    "from tensorflow.examples.tutorials.mnist import input_data\n",
    "\n",
    "# set random seed for comparing the two result calculations\n",
    "tf.set_random_seed(1)"
   ]
  },
  {
   "cell_type": "code",
   "execution_count": 2,
   "metadata": {
    "collapsed": true
   },
   "outputs": [
    {
     "name": "stdout",
     "output_type": "stream",
     "text": [
      "WARNING:tensorflow:From <ipython-input-2-71e12f4bac70>:1: read_data_sets (from tensorflow.contrib.learn.python.learn.datasets.mnist) is deprecated and will be removed in a future version.\n",
      "Instructions for updating:\n",
      "Please use alternatives such as official/mnist/dataset.py from tensorflow/models.\n",
      "WARNING:tensorflow:From C:\\Users\\Joseph\\AppData\\Roaming\\Python\\Python35\\site-packages\\tensorflow\\contrib\\learn\\python\\learn\\datasets\\mnist.py:260: maybe_download (from tensorflow.contrib.learn.python.learn.datasets.base) is deprecated and will be removed in a future version.\n",
      "Instructions for updating:\n",
      "Please write your own downloading logic.\n",
      "WARNING:tensorflow:From C:\\Users\\Joseph\\AppData\\Roaming\\Python\\Python35\\site-packages\\tensorflow\\contrib\\learn\\python\\learn\\datasets\\mnist.py:262: extract_images (from tensorflow.contrib.learn.python.learn.datasets.mnist) is deprecated and will be removed in a future version.\n",
      "Instructions for updating:\n",
      "Please use tf.data to implement this functionality.\n",
      "Extracting MNIST_data\\train-images-idx3-ubyte.gz\n",
      "WARNING:tensorflow:From C:\\Users\\Joseph\\AppData\\Roaming\\Python\\Python35\\site-packages\\tensorflow\\contrib\\learn\\python\\learn\\datasets\\mnist.py:267: extract_labels (from tensorflow.contrib.learn.python.learn.datasets.mnist) is deprecated and will be removed in a future version.\n",
      "Instructions for updating:\n",
      "Please use tf.data to implement this functionality.\n",
      "Extracting MNIST_data\\train-labels-idx1-ubyte.gz\n",
      "WARNING:tensorflow:From C:\\Users\\Joseph\\AppData\\Roaming\\Python\\Python35\\site-packages\\tensorflow\\contrib\\learn\\python\\learn\\datasets\\mnist.py:110: dense_to_one_hot (from tensorflow.contrib.learn.python.learn.datasets.mnist) is deprecated and will be removed in a future version.\n",
      "Instructions for updating:\n",
      "Please use tf.one_hot on tensors.\n",
      "Extracting MNIST_data\\t10k-images-idx3-ubyte.gz\n",
      "Extracting MNIST_data\\t10k-labels-idx1-ubyte.gz\n",
      "WARNING:tensorflow:From C:\\Users\\Joseph\\AppData\\Roaming\\Python\\Python35\\site-packages\\tensorflow\\contrib\\learn\\python\\learn\\datasets\\mnist.py:290: DataSet.__init__ (from tensorflow.contrib.learn.python.learn.datasets.mnist) is deprecated and will be removed in a future version.\n",
      "Instructions for updating:\n",
      "Please use alternatives such as official/mnist/dataset.py from tensorflow/models.\n"
     ]
    }
   ],
   "source": [
    "mnist = input_data.read_data_sets('MNIST_data', one_hot=True)"
   ]
  },
  {
   "cell_type": "code",
   "execution_count": 3,
   "metadata": {},
   "outputs": [
    {
     "data": {
      "text/plain": [
       "tensorflow.contrib.learn.python.learn.datasets.base.Datasets"
      ]
     },
     "execution_count": 3,
     "metadata": {},
     "output_type": "execute_result"
    }
   ],
   "source": [
    "type(mnist)"
   ]
  },
  {
   "cell_type": "code",
   "execution_count": 4,
   "metadata": {},
   "outputs": [
    {
     "data": {
      "text/plain": [
       "(55000, 784)"
      ]
     },
     "execution_count": 4,
     "metadata": {},
     "output_type": "execute_result"
    }
   ],
   "source": [
    "\n",
    "mnist.train.images.shape"
   ]
  },
  {
   "cell_type": "code",
   "execution_count": 5,
   "metadata": {},
   "outputs": [
    {
     "data": {
      "text/plain": [
       "(10000, 784)"
      ]
     },
     "execution_count": 5,
     "metadata": {},
     "output_type": "execute_result"
    }
   ],
   "source": [
    "\n",
    "mnist.test.images.shape"
   ]
  },
  {
   "cell_type": "code",
   "execution_count": 6,
   "metadata": {},
   "outputs": [
    {
     "data": {
      "text/plain": [
       "9"
      ]
     },
     "execution_count": 6,
     "metadata": {},
     "output_type": "execute_result"
    }
   ],
   "source": [
    "\n",
    "mnist.train.labels[8].argmax()"
   ]
  },
  {
   "cell_type": "code",
   "execution_count": 7,
   "metadata": {},
   "outputs": [],
   "source": [
    "import matplotlib.pyplot as plt\n",
    "plt.rcParams['figure.figsize'] = (8,7)\n",
    "%matplotlib inline\n",
    "\n",
    "def draw_digit(x):\n",
    "    img = x.reshape(28,28)\n",
    "    plt.imshow(img, cmap='gray', interpolation='none')"
   ]
  },
  {
   "cell_type": "code",
   "execution_count": 8,
   "metadata": {},
   "outputs": [
    {
     "data": {
      "image/png": "[encoded data removed]",
      "text/plain": [
       "<Figure size 432x288 with 1 Axes>"
      ]
     },
     "metadata": {},
     "output_type": "display_data"
    }
   ],
   "source": [
    "digit = mnist.train.images[0]\n",
    "draw_digit(digit)"
   ]
  },
  {
   "cell_type": "code",
   "execution_count": 9,
   "metadata": {},
   "outputs": [],
   "source": [
    "def draw_digits(digits, labels, n_rows=3):\n",
    "    n = len(digits)\n",
    "    n_cols = int(n / n_rows)\n",
    "    for i in range(0, n):\n",
    "        plt.subplot(n_rows, n_cols, i+1)\n",
    "        img = digits[i].reshape(28,28)\n",
    "        label = labels[i].argmax()\n",
    "        plt.imshow(img, cmap='gray', interpolation='none')\n",
    "        plt.title(label, fontsize=12)\n",
    "        plt.tick_params(axis='both', which='major', labelsize=6)\n",
    "        plt.subplots_adjust(hspace=0.0, wspace=0.5)"
   ]
  },
  {
   "cell_type": "code",
   "execution_count": 10,
   "metadata": {},
   "outputs": [
    {
     "data": {
      "image/png": "[encoded data removed]",
      "text/plain": [
       "<Figure size 576x504 with 24 Axes>"
      ]
     },
     "metadata": {},
     "output_type": "display_data"
    }
   ],
   "source": [
    "plt.rcParams['figure.figsize'] = (8,7)\n",
    "digits = mnist.train.images[500:524]\n",
    "labels = mnist.train.labels[500:524]\n",
    "draw_digits(digits, labels, n_rows=4)"
   ]
  },
  {
   "cell_type": "code",
   "execution_count": 11,
   "metadata": {},
   "outputs": [],
   "source": [
    "\n",
    "lr = 0.001                   # learning rate\n",
    "training_iters = 100000      # Number of training \n",
    "batch_size = 128             # Batch size\n",
    "n_inputs = 28                # MNIST data input (img shape: 28*28)\n",
    "n_steps = 28                 # Time steps for recurrent cell\n",
    "n_hidden_units = 128         # Number of neurons in hidden layer\n",
    "n_classes = 10               # MNIST classes (0-9 digits): 0, 1, 2, 3, ..., 9"
   ]
  },
  {
   "cell_type": "code",
   "execution_count": 12,
   "metadata": {},
   "outputs": [],
   "source": [
    "# tf Graph inputs\n",
    "x = tf.placeholder(tf.float32, [None, n_steps, n_inputs])\n",
    "y = tf.placeholder(tf.float32, [None, n_classes])\n",
    "\n",
    "# Define weights matrices\n",
    "weights = {\n",
    "    # matrix from inputs (28) to hidden layer (128). shape is: (28, 128)\n",
    "    'in': tf.Variable(tf.random_normal([n_inputs, n_hidden_units])),\n",
    "    # matrix from hidden layer to output layer, shape is: (128, 10)\n",
    "    'out': tf.Variable(tf.random_normal([n_hidden_units, n_classes]))\n",
    "}\n",
    "\n",
    "# Define bias vectors\n",
    "biases = {\n",
    "    # bias for the input to hidden layer (128, )\n",
    "    'in': tf.Variable(tf.constant(0.1, shape=[n_hidden_units, ])),\n",
    "    # bias from the hidden to putput layer (10, )\n",
    "    'out': tf.Variable(tf.constant(0.1, shape=[n_classes, ]))\n",
    "}"
   ]
  },
  {
   "cell_type": "code",
   "execution_count": 13,
   "metadata": {},
   "outputs": [],
   "source": [
    "def RNN(X, weights, biases):\n",
    "    # hidden layer for input to lstm cell\n",
    "\n",
    "    # transpose the inputs shape from 3D [batch, steps, inputs]\n",
    "    # to 2D: [(128 batch * 28 steps), 28 inputs)\n",
    "    # new shape: [128*28, 28]\n",
    "    X = tf.reshape(X, [-1, n_inputs])\n",
    "\n",
    "    # flow from input layer to hidden layer\n",
    "    # X_in = (128 batch * 28 steps, 128 hidden)\n",
    "    X_in = tf.matmul(X, weights['in']) + biases['in']\n",
    "    # X_in ==> (128 batch, 28 steps, 128 hidden)\n",
    "    X_in = tf.reshape(X_in, [-1, n_steps, n_hidden_units])\n",
    "\n",
    "    # basic LSTM Cell\n",
    "    lstm_cell = tf.nn.rnn_cell.BasicLSTMCell(n_hidden_units, forget_bias=1.0, state_is_tuple=True)\n",
    "    # lstm cell is divided into two parts (c_state, h_state)\n",
    "    init_state = lstm_cell.zero_state(batch_size, dtype=tf.float32)\n",
    "\n",
    "    # You have 2 options for following step.\n",
    "    # 1: tf.nn.rnn(cell, inputs);\n",
    "    # 2: tf.nn.dynamic_rnn(cell, inputs).\n",
    "    # In option 1, you have to modify the shape of X_in, go and check out this:\n",
    "    # https://github.com/aymericdamien/TensorFlow-Examples/blob/master/examples/3_NeuralNetworks/recurrent_network.py\n",
    "    # Here, we go for option 2:\n",
    "    # dynamic_rnn receive Tensor (batch, steps, inputs) or (steps, batch, inputs) as X_in.\n",
    "    # Make sure the time_major is changed accordingly.\n",
    "    outputs, final_state = tf.nn.dynamic_rnn(lstm_cell, X_in, initial_state=init_state, time_major=False)\n",
    "\n",
    "    # hidden layer for output as the final results:\n",
    "    # results = tf.matmul(final_state[1], weights['out']) + biases['out']\n",
    "    # or:\n",
    "    # unpack to list [(batch, outputs)..] * steps\n",
    "    outputs = tf.unstack(tf.transpose(outputs, [1, 0, 2]))    # states is the last outputs\n",
    "    results = tf.matmul(outputs[-1], weights['out']) + biases['out']\n",
    "\n",
    "    return results"
   ]
  },
  {
   "cell_type": "code",
   "execution_count": 14,
   "metadata": {},
   "outputs": [],
   "source": [
    "pred = RNN(x, weights, biases)\n",
    "cost = tf.reduce_mean(tf.nn.softmax_cross_entropy_with_logits_v2(labels=y, logits=pred))\n",
    "train_op = tf.train.AdamOptimizer(lr).minimize(cost)"
   ]
  },
  {
   "cell_type": "code",
   "execution_count": 15,
   "metadata": {},
   "outputs": [],
   "source": [
    "\n",
    "correct_pred = tf.equal(tf.argmax(pred, 1), tf.argmax(y, 1))\n",
    "accuracy = tf.reduce_mean(tf.cast(correct_pred, tf.float32))"
   ]
  },
  {
   "cell_type": "code",
   "execution_count": 16,
   "metadata": {},
   "outputs": [
    {
     "name": "stdout",
     "output_type": "stream",
     "text": [
      "0.265625\n",
      "0.7265625\n",
      "0.828125\n",
      "0.8828125\n",
      "0.84375\n",
      "0.859375\n",
      "0.8984375\n",
      "0.890625\n",
      "0.84375\n",
      "0.90625\n",
      "0.921875\n",
      "0.90625\n",
      "0.9140625\n",
      "0.9140625\n",
      "0.9375\n",
      "0.9609375\n",
      "0.953125\n",
      "0.921875\n",
      "0.9453125\n",
      "0.96875\n",
      "0.9375\n",
      "0.9609375\n",
      "0.890625\n",
      "0.984375\n",
      "0.953125\n",
      "0.953125\n",
      "0.9453125\n",
      "0.9453125\n",
      "0.96875\n",
      "0.9375\n",
      "0.953125\n",
      "0.96875\n",
      "0.9375\n",
      "0.9921875\n",
      "0.9609375\n",
      "0.9609375\n",
      "0.953125\n",
      "0.9609375\n",
      "0.96875\n",
      "0.96875\n"
     ]
    }
   ],
   "source": [
    "sess = tf.Session()\n",
    "init = tf.global_variables_initializer()\n",
    "sess.run(init)\n",
    "step = 0\n",
    "while step * batch_size < training_iters:\n",
    "    batch_xs, batch_ys = mnist.train.next_batch(batch_size)\n",
    "    batch_xs = batch_xs.reshape([batch_size, n_steps, n_inputs])\n",
    "    inp = {x: batch_xs, y: batch_ys}\n",
    "    sess.run([train_op], feed_dict=inp)\n",
    "    if step % 20 == 0:\n",
    "        inp = {x: batch_xs, y: batch_ys}\n",
    "        print(sess.run(accuracy, feed_dict=inp))\n",
    "    step += 1"
   ]
  },
  {
   "cell_type": "code",
   "execution_count": 19,
   "metadata": {},
   "outputs": [],
   "source": [
    "import numpy as np\n",
    "\n",
    "def predict_classes(sess, digits):\n",
    "    n_digits = len(digits)\n",
    "    xbatches = digits.reshape([-1, batch_size, n_steps, n_inputs])\n",
    "    n_batches = xbatches.shape[0]\n",
    "    y_pred = []\n",
    "    for i in range(n_batches):\n",
    "        inp = {x: xbatches[i]}\n",
    "        #y_pred = pred.eval(feed_dict=inp, session=sess)\n",
    "        y_pred.extend(sess.run(pred, feed_dict=inp))\n",
    "    return np.array(y_pred)"
   ]
  },
  {
   "cell_type": "code",
   "execution_count": 20,
   "metadata": {},
   "outputs": [
    {
     "name": "stdout",
     "output_type": "stream",
     "text": [
      "[[-2.263169    2.1794078   0.42790514  5.0582848   1.2745659   0.38527974\n",
      "  -4.644747   17.128643   -2.8363147   2.1751153 ]\n",
      " [-2.6655705  -0.5135616  11.88025    -0.45332262  1.0152701  -1.7611496\n",
      "   1.2334719   2.7878954  -1.9461758  -5.7347975 ]\n",
      " [-3.407368   12.024347   -2.3019786  -0.7994183   3.990151    1.0511202\n",
      "  -0.95952135  5.8423233  -2.2201986  -0.6189654 ]\n",
      " [ 7.6883283  -5.9431057   1.3318704  -1.0456955  -3.2112184   2.0926368\n",
      "   4.345531   -4.7442656   2.6322622   1.5901201 ]\n",
      " [ 1.1404055  -2.3757398  -6.5576887  -3.6273487   9.851462    1.3152143\n",
      "   2.5863633   2.711026   -2.8736317   2.7648556 ]]\n"
     ]
    }
   ],
   "source": [
    "digits = mnist.test.images[0:128]\n",
    "y_pred = predict_classes(sess, digits)\n",
    "print(y_pred[0:5])"
   ]
  },
  {
   "cell_type": "code",
   "execution_count": 21,
   "metadata": {},
   "outputs": [
    {
     "name": "stdout",
     "output_type": "stream",
     "text": [
      "[7, 2, 1, 0, 4, 1, 4, 9, 5, 9]\n"
     ]
    }
   ],
   "source": [
    "print([e.argmax() for e in y_pred[0:10]])"
   ]
  },
  {
   "cell_type": "code",
   "execution_count": 22,
   "metadata": {},
   "outputs": [
    {
     "name": "stdout",
     "output_type": "stream",
     "text": [
      "[7, 2, 1, 0, 4, 1, 4, 9, 5, 9]\n"
     ]
    }
   ],
   "source": [
    "print([label.argmax() for label in mnist.test.labels[0:10]])"
   ]
  },
  {
   "cell_type": "code",
   "execution_count": 23,
   "metadata": {},
   "outputs": [
    {
     "name": "stdout",
     "output_type": "stream",
     "text": [
      "Network missed 427 samples\n",
      "Validation accuracy: 0.95723\n"
     ]
    }
   ],
   "source": [
    "y_pred = predict_classes(sess, mnist.test.images[0:9984])\n",
    "missed = []\n",
    "for i,dig in enumerate(mnist.test.images[0:9984]):\n",
    "    true_label = mnist.test.labels[i].argmax()\n",
    "    pred_label = y_pred[i].argmax()\n",
    "    if not true_label == pred_label:\n",
    "        missed.append(i)\n",
    "\n",
    "print(\"Network missed %d samples\" % (len(missed)))\n",
    "print(\"Validation accuracy: %.5f\" % ((9984-len(missed))/9984.0))"
   ]
  },
  {
   "cell_type": "code",
   "execution_count": 24,
   "metadata": {},
   "outputs": [
    {
     "name": "stdout",
     "output_type": "stream",
     "text": [
      "[18, 20, 62, 92, 95, 151, 177, 184, 232, 247, 259, 266, 313, 321, 340, 359, 394, 412, 434, 435, 445, 448, 449, 464]\n"
     ]
    }
   ],
   "source": [
    "print(missed[0:24])"
   ]
  },
  {
   "cell_type": "code",
   "execution_count": 25,
   "metadata": {},
   "outputs": [
    {
     "data": {
      "image/png": "[encoded data removed]",
      "text/plain": [
       "<Figure size 576x432 with 24 Axes>"
      ]
     },
     "metadata": {},
     "output_type": "display_data"
    }
   ],
   "source": [
    "plt.rcParams['figure.figsize'] = (8,6)\n",
    "for i in range(0, 24):\n",
    "    plt.subplot(4, 6, i+1)\n",
    "    img = mnist.test.images[missed[i]].reshape(28,28)\n",
    "    true_label = mnist.test.labels[missed[i]].argmax()\n",
    "    pred_label = y_pred[missed[i]].argmax()\n",
    "    plt.imshow(img, cmap='gray', interpolation='none')\n",
    "    title = \"t:%s, p:%s\" % (true_label, pred_label)\n",
    "    plt.title(title, fontsize=11)\n",
    "    plt.subplots_adjust(hspace=0.0, wspace=0.5)\n",
    "    plt.axis('off')"
   ]
  },
  {
   "cell_type": "code",
   "execution_count": null,
   "metadata": {},
   "outputs": [],
   "source": []
  }
 ],
 "metadata": {
  "kernelspec": {
   "display_name": "Python 3",
   "language": "python",
   "name": "python3"
  },
  "language_info": {
   "codemirror_mode": {
    "name": "ipython",
    "version": 3
   },
   "file_extension": ".py",
   "mimetype": "text/x-python",
   "name": "python",
   "nbconvert_exporter": "python",
   "pygments_lexer": "ipython3",
   "version": "3.5.5"
  }
 },
 "nbformat": 4,
 "nbformat_minor": 2
}
